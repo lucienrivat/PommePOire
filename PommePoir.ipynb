{
  "nbformat": 4,
  "nbformat_minor": 0,
  "metadata": {
    "colab": {
      "provenance": [],
      "authorship_tag": "ABX9TyOkAAC3z/MTi/G11dsE63g9",
      "include_colab_link": true
    },
    "kernelspec": {
      "name": "python3",
      "display_name": "Python 3"
    },
    "language_info": {
      "name": "python"
    }
  },
  "cells": [
    {
      "cell_type": "markdown",
      "metadata": {
        "id": "view-in-github",
        "colab_type": "text"
      },
      "source": [
        "<a href=\"https://colab.research.google.com/github/lucienrivat/PommePOire/blob/main/PommePoir.ipynb\" target=\"_parent\"><img src=\"https://colab.research.google.com/assets/colab-badge.svg\" alt=\"Open In Colab\"/></a>"
      ]
    },
    {
      "cell_type": "code",
      "source": [
        "#Import dataset\n",
        "import cv2\n",
        "import numpy as np\n",
        "import requests\n",
        "import matplotlib.pyplot as plt\n",
        "import matplotlib.image as mpimg\n",
        "import sys\n",
        "import datetime\n",
        "from tensorflow import keras\n",
        "from tensorflow.keras.models import Model\n",
        "import tensorflow as tf\n",
        "import pathlib\n",
        "import os\n",
        "import requests\n",
        "import zipfile\n",
        "\n",
        "# Télécharger le fichier ZIP depuis GitHub\n",
        "data_dir = tf.keras.utils.get_file(\n",
        "    \"Apple.zip\",\n",
        "    \"https://github.com/lucienrivat/PommePOire/raw/main/Apple.zip\",\n",
        "    extract=False\n",
        ")\n",
        "\n",
        "# Extraire le fichier ZIP dans /content/datasets\n",
        "with zipfile.ZipFile(data_dir, 'r') as zip_ref:\n",
        "    zip_ref.extractall('/content/datasets/')\n",
        "\n",
        "# Définir le chemin du dossier contenant les images\n",
        "data_dir = pathlib.Path('/content/datasets/Apple/')\n",
        "print(\"Dossier des images :\", data_dir)\n",
        "print(\"Chemin absolu :\", os.path.abspath(data_dir))\n",
        "\n",
        "# Compter le nombre d'images dans le dataset\n",
        "image_count = len(list(data_dir.glob('*/*')))\n",
        "print(\"Nombre d'images trouvées :\", image_count)\n"
      ],
      "metadata": {
        "colab": {
          "base_uri": "https://localhost:8080/"
        },
        "id": "oyG9dEoaeQnz",
        "outputId": "550a2a4f-cbc1-4599-bb7e-be858d692209"
      },
      "execution_count": 4,
      "outputs": [
        {
          "output_type": "stream",
          "name": "stdout",
          "text": [
            "Dossier des images : /content/datasets/Apple\n",
            "Chemin absolu : /content/datasets/Apple\n",
            "Nombre d'images trouvées : 0\n"
          ]
        }
      ]
    }
  ]
}