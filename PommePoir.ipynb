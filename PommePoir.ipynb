{
  "nbformat": 4,
  "nbformat_minor": 0,
  "metadata": {
    "colab": {
      "provenance": [],
      "authorship_tag": "ABX9TyPnE4NG5b+FE/b8tSqUsyvn",
      "include_colab_link": true
    },
    "kernelspec": {
      "name": "python3",
      "display_name": "Python 3"
    },
    "language_info": {
      "name": "python"
    }
  },
  "cells": [
    {
      "cell_type": "markdown",
      "metadata": {
        "id": "view-in-github",
        "colab_type": "text"
      },
      "source": [
        "<a href=\"https://colab.research.google.com/github/lucienrivat/PommePOire/blob/main/PommePoir.ipynb\" target=\"_parent\"><img src=\"https://colab.research.google.com/assets/colab-badge.svg\" alt=\"Open In Colab\"/></a>"
      ]
    },
    {
      "cell_type": "code",
      "source": [
        "# Import dataset\n",
        "import cv2\n",
        "import numpy as np\n",
        "import requests\n",
        "import matplotlib.pyplot as plt\n",
        "import matplotlib.image as mpimg\n",
        "import sys\n",
        "import datetime\n",
        "from tensorflow import keras\n",
        "from tensorflow.keras.models import Model\n",
        "import tensorflow as tf\n",
        "import pathlib\n",
        "import os\n",
        "import zipfile\n",
        "import random\n",
        "\n",
        "# Télécharger le fichier ZIP Apple depuis GitHub\n",
        "apple_zip = tf.keras.utils.get_file(\n",
        "    \"Apple.zip\",\n",
        "    \"https://github.com/lucienrivat/PommePOire/raw/main/Apple.zip\",\n",
        "    extract=False\n",
        ")\n",
        "\n",
        "# Télécharger le fichier ZIP Pear depuis GitHub\n",
        "pear_zip = tf.keras.utils.get_file(\n",
        "    \"Pear.zip\",\n",
        "    \"https://github.com/lucienrivat/PommePOire/raw/main/pear.zip\",\n",
        "    extract=False\n",
        ")\n",
        "\n",
        "# Extraire les fichiers ZIP dans /content/datasets\n",
        "with zipfile.ZipFile(apple_zip, 'r') as zip_ref:\n",
        "    zip_ref.extractall('/content/datasets/')\n",
        "\n",
        "with zipfile.ZipFile(pear_zip, 'r') as zip_ref:\n",
        "    zip_ref.extractall('/content/datasets/')\n",
        "\n",
        "# Définir les chemins des dossiers contenant les images\n",
        "apple_data_dir = pathlib.Path('/content/datasets/')\n",
        "pear_data_dir = pathlib.Path('/content/datasets/pear/')\n",
        "\n",
        "print(\"Dossier des images Apple :\", apple_data_dir)\n",
        "print(\"Dossier des images Pear :\", pear_data_dir)\n",
        "print(\"Chemin absolu Apple :\", os.path.abspath(apple_data_dir))\n",
        "print(\"Chemin absolu Pear :\", os.path.abspath(pear_data_dir))\n",
        "\n",
        "# Compter le nombre d'images dans chaque dataset\n",
        "apple_image_count = len(list(apple_data_dir.glob('*/*')))\n",
        "pear_image_count = sum([len(list(pear_data_dir.glob(f'{folder}/*'))) for folder in os.listdir(pear_data_dir)])\n",
        "\n",
        "print(\"Nombre d'images Apple trouvées :\", apple_image_count)\n",
        "print(\"Nombre d'images Pear trouvées :\", pear_image_count)\n",
        "\n",
        "# Définir les paramètres du dataset\n",
        "batch_size = 3\n",
        "img_height = 200\n",
        "img_width = 200\n",
        "\n",
        "# Charger les datasets Apple et Pear\n",
        "train_apple_data = tf.keras.preprocessing.image_dataset_from_directory(\n",
        "  apple_data_dir,\n",
        "  validation_split=0.2,\n",
        "  subset=\"training\",\n",
        "  seed=42,\n",
        "  image_size=(img_height, img_width),\n",
        "  batch_size=batch_size,\n",
        ")\n",
        "\n",
        "val_apple_data = tf.keras.preprocessing.image_dataset_from_directory(\n",
        "  apple_data_dir,\n",
        "  validation_split=0.2,\n",
        "  subset=\"validation\",\n",
        "  seed=42,\n",
        "  image_size=(img_height, img_width),\n",
        "  batch_size=batch_size,\n",
        ")\n",
        "\n",
        "# Pour Pear, on doit choisir un sous-dossier\n",
        "pear_subfolders = [folder for folder in os.listdir(pear_data_dir) if os.path.isdir(os.path.join(pear_data_dir, folder))]\n",
        "print(\"Sous-dossiers dans Pear:\", pear_subfolders)\n",
        "\n",
        "# Sélectionner six images aléatoires\n",
        "images_to_display = []\n",
        "\n",
        "for _ in range(6):\n",
        "    # Choisir si l'image provient d'Apple ou de Pear\n",
        "    source = random.choice(['apple', 'pear'])\n",
        "\n",
        "    if source == 'apple':\n",
        "        # Choisir une image aléatoire dans Apple\n",
        "        random_apple_image = random.choice(list(apple_data_dir.glob('*.*')))\n",
        "        img_apple = mpimg.imread(random_apple_image)\n",
        "        images_to_display.append(img_apple)\n",
        "    else:\n",
        "        # Choisir un sous-dossier de manière aléatoire dans Pear\n",
        "        chosen_pear_folder = random.choice(pear_subfolders)\n",
        "        pear_images = list(pathlib.Path(pear_data_dir, chosen_pear_folder).glob('*.*'))\n",
        "\n",
        "        # Sélectionner une image aléatoire du sous-dossier Pear\n",
        "        random_pear_image = random.choice(pear_images)\n",
        "        img_pear = mpimg.imread(random_pear_image)\n",
        "        images_to_display.append(img_pear)\n",
        "\n",
        "# Afficher les images\n",
        "plt.figure(figsize=(15, 10))\n",
        "for i, img in enumerate(images_to_display):\n",
        "    ax = plt.subplot(2, 3, i + 1)\n",
        "    plt.imshow(img)\n",
        "    plt.axis(\"off\")\n",
        "    if i < 3:\n",
        "        plt.title(f\"Apple {i + 1}\")\n",
        "    else:\n",
        "        plt.title(f\"Pear {i - 2}\")\n",
        "plt.show()\n"
      ],
      "metadata": {
        "colab": {
          "base_uri": "https://localhost:8080/",
          "height": 543
        },
        "id": "oyG9dEoaeQnz",
        "outputId": "8c957669-1217-476e-c70e-185d564ead62"
      },
      "execution_count": 26,
      "outputs": [
        {
          "output_type": "stream",
          "name": "stdout",
          "text": [
            "Dossier des images Apple : /content/datasets\n",
            "Dossier des images Pear : /content/datasets/pear\n",
            "Chemin absolu Apple : /content/datasets\n",
            "Chemin absolu Pear : /content/datasets/pear\n",
            "Nombre d'images Apple trouvées : 466\n",
            "Nombre d'images Pear trouvées : 5252\n",
            "Found 5708 files belonging to 2 classes.\n",
            "Using 4567 files for training.\n",
            "Found 5708 files belonging to 2 classes.\n",
            "Using 1141 files for validation.\n",
            "Sous-dossiers dans Pear: ['Pear Williams 1', 'Pear Abate 1', 'Pear Red 1', 'Pear 3', 'Pear Stone 1', 'Pear 1', 'Pear 2', 'Pear Forelle 1', 'Pear Monster 1', 'Pear Kaiser 1']\n"
          ]
        },
        {
          "output_type": "error",
          "ename": "IndexError",
          "evalue": "Cannot choose from an empty sequence",
          "traceback": [
            "\u001b[0;31m---------------------------------------------------------------------------\u001b[0m",
            "\u001b[0;31mIndexError\u001b[0m                                Traceback (most recent call last)",
            "\u001b[0;32m<ipython-input-26-12fd52c1c416>\u001b[0m in \u001b[0;36m<cell line: 0>\u001b[0;34m()\u001b[0m\n\u001b[1;32m     89\u001b[0m     \u001b[0;32mif\u001b[0m \u001b[0msource\u001b[0m \u001b[0;34m==\u001b[0m \u001b[0;34m'apple'\u001b[0m\u001b[0;34m:\u001b[0m\u001b[0;34m\u001b[0m\u001b[0;34m\u001b[0m\u001b[0m\n\u001b[1;32m     90\u001b[0m         \u001b[0;31m# Choisir une image aléatoire dans Apple\u001b[0m\u001b[0;34m\u001b[0m\u001b[0;34m\u001b[0m\u001b[0m\n\u001b[0;32m---> 91\u001b[0;31m         \u001b[0mrandom_apple_image\u001b[0m \u001b[0;34m=\u001b[0m \u001b[0mrandom\u001b[0m\u001b[0;34m.\u001b[0m\u001b[0mchoice\u001b[0m\u001b[0;34m(\u001b[0m\u001b[0mlist\u001b[0m\u001b[0;34m(\u001b[0m\u001b[0mapple_data_dir\u001b[0m\u001b[0;34m.\u001b[0m\u001b[0mglob\u001b[0m\u001b[0;34m(\u001b[0m\u001b[0;34m'*.*'\u001b[0m\u001b[0;34m)\u001b[0m\u001b[0;34m)\u001b[0m\u001b[0;34m)\u001b[0m\u001b[0;34m\u001b[0m\u001b[0;34m\u001b[0m\u001b[0m\n\u001b[0m\u001b[1;32m     92\u001b[0m         \u001b[0mimg_apple\u001b[0m \u001b[0;34m=\u001b[0m \u001b[0mmpimg\u001b[0m\u001b[0;34m.\u001b[0m\u001b[0mimread\u001b[0m\u001b[0;34m(\u001b[0m\u001b[0mrandom_apple_image\u001b[0m\u001b[0;34m)\u001b[0m\u001b[0;34m\u001b[0m\u001b[0;34m\u001b[0m\u001b[0m\n\u001b[1;32m     93\u001b[0m         \u001b[0mimages_to_display\u001b[0m\u001b[0;34m.\u001b[0m\u001b[0mappend\u001b[0m\u001b[0;34m(\u001b[0m\u001b[0mimg_apple\u001b[0m\u001b[0;34m)\u001b[0m\u001b[0;34m\u001b[0m\u001b[0;34m\u001b[0m\u001b[0m\n",
            "\u001b[0;32m/usr/lib/python3.11/random.py\u001b[0m in \u001b[0;36mchoice\u001b[0;34m(self, seq)\u001b[0m\n\u001b[1;32m    371\u001b[0m         \u001b[0;31m# because bool(numpy.array()) raises a ValueError.\u001b[0m\u001b[0;34m\u001b[0m\u001b[0;34m\u001b[0m\u001b[0m\n\u001b[1;32m    372\u001b[0m         \u001b[0;32mif\u001b[0m \u001b[0;32mnot\u001b[0m \u001b[0mlen\u001b[0m\u001b[0;34m(\u001b[0m\u001b[0mseq\u001b[0m\u001b[0;34m)\u001b[0m\u001b[0;34m:\u001b[0m\u001b[0;34m\u001b[0m\u001b[0;34m\u001b[0m\u001b[0m\n\u001b[0;32m--> 373\u001b[0;31m             \u001b[0;32mraise\u001b[0m \u001b[0mIndexError\u001b[0m\u001b[0;34m(\u001b[0m\u001b[0;34m'Cannot choose from an empty sequence'\u001b[0m\u001b[0;34m)\u001b[0m\u001b[0;34m\u001b[0m\u001b[0;34m\u001b[0m\u001b[0m\n\u001b[0m\u001b[1;32m    374\u001b[0m         \u001b[0;32mreturn\u001b[0m \u001b[0mseq\u001b[0m\u001b[0;34m[\u001b[0m\u001b[0mself\u001b[0m\u001b[0;34m.\u001b[0m\u001b[0m_randbelow\u001b[0m\u001b[0;34m(\u001b[0m\u001b[0mlen\u001b[0m\u001b[0;34m(\u001b[0m\u001b[0mseq\u001b[0m\u001b[0;34m)\u001b[0m\u001b[0;34m)\u001b[0m\u001b[0;34m]\u001b[0m\u001b[0;34m\u001b[0m\u001b[0;34m\u001b[0m\u001b[0m\n\u001b[1;32m    375\u001b[0m \u001b[0;34m\u001b[0m\u001b[0m\n",
            "\u001b[0;31mIndexError\u001b[0m: Cannot choose from an empty sequence"
          ]
        }
      ]
    }
  ]
}