{
  "nbformat": 4,
  "nbformat_minor": 0,
  "metadata": {
    "colab": {
      "provenance": [],
      "authorship_tag": "ABX9TyPOQ8TL+9+wvLMhA29qroHB",
      "include_colab_link": true
    },
    "kernelspec": {
      "name": "python3",
      "display_name": "Python 3"
    },
    "language_info": {
      "name": "python"
    }
  },
  "cells": [
    {
      "cell_type": "markdown",
      "metadata": {
        "id": "view-in-github",
        "colab_type": "text"
      },
      "source": [
        "<a href=\"https://colab.research.google.com/github/lucienrivat/PommePOire/blob/main/PommePoir.ipynb\" target=\"_parent\"><img src=\"https://colab.research.google.com/assets/colab-badge.svg\" alt=\"Open In Colab\"/></a>"
      ]
    },
    {
      "cell_type": "code",
      "source": [
        "#Import dataset\n",
        "import cv2\n",
        "import numpy as np\n",
        "import requests\n",
        "import matplotlib.pyplot as plt\n",
        "import matplotlib.image as mpimg\n",
        "import sys\n",
        "import datetime\n",
        "from tensorflow import keras\n",
        "from tensorflow.keras.models import Model\n",
        "import tensorflow as tf\n",
        "import pathlib\n",
        "import os\n",
        "import requests\n",
        "import zipfile\n",
        "\n",
        "# Télécharger le fichier ZIP depuis GitHub\n",
        "data_dir = tf.keras.utils.get_file(\n",
        "    \"Apple.zip\",\n",
        "    \"https://github.com/lucienrivat/PommePOire/raw/main/Apple.zip\",\n",
        "    extract=False\n",
        ")\n",
        "\n",
        "# Extraire le fichier ZIP dans /content/datasets\n",
        "with zipfile.ZipFile(data_dir, 'r') as zip_ref:\n",
        "    zip_ref.extractall('/content/datasets/')\n",
        "\n",
        "# Définir le chemin du dossier contenant les images\n",
        "data_dir = pathlib.Path('/content/datasets/')\n",
        "print(\"Dossier des images :\", data_dir)\n",
        "print(\"Chemin absolu :\", os.path.abspath(data_dir))\n",
        "\n",
        "# Compter le nombre d'images dans le dataset\n",
        "image_count = len(list(data_dir.glob('*/*')))\n",
        "print(\"Nombre d'images trouvées :\", image_count)\n",
        "batch_size = 3\n",
        "img_height = 200\n",
        "img_width = 200\n",
        "\n",
        "train_data = tf.keras.preprocessing.image_dataset_from_directory(\n",
        "  data_dir,\n",
        "  validation_split=0.2,\n",
        "  subset=\"training\",\n",
        "  seed=42,\n",
        "  image_size=(img_height, img_width),\n",
        "  batch_size=batch_size,\n",
        "  )\n",
        "\n",
        "val_data = tf.keras.preprocessing.image_dataset_from_directory(\n",
        "  data_dir,\n",
        "  validation_split=0.2,\n",
        "  subset=\"validation\",\n",
        "  seed=42,\n",
        "  image_size=(img_height, img_width),\n",
        "  batch_size=batch_size)\n",
        "\n",
        "class_names = val_data.class_names\n",
        "print(class_names)"
      ],
      "metadata": {
        "colab": {
          "base_uri": "https://localhost:8080/"
        },
        "id": "oyG9dEoaeQnz",
        "outputId": "3c9f64de-8579-450c-ba1c-1a7ed9b38c2f"
      },
      "execution_count": 8,
      "outputs": [
        {
          "output_type": "stream",
          "name": "stdout",
          "text": [
            "Dossier des images : /content/datasets\n",
            "Chemin absolu : /content/datasets\n",
            "Nombre d'images trouvées : 456\n",
            "Found 456 files belonging to 1 classes.\n",
            "Using 365 files for training.\n",
            "Found 456 files belonging to 1 classes.\n",
            "Using 91 files for validation.\n",
            "['Apple']\n"
          ]
        }
      ]
    }
  ]
}